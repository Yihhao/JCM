{
 "cells": [
  {
   "cell_type": "code",
   "execution_count": 1,
   "metadata": {},
   "outputs": [
    {
     "data": {
      "text/html": [
       "<table><tr><th>Software</th><th>Version</th></tr><tr><td>QuTiP</td><td>4.3.1</td></tr><tr><td>Numpy</td><td>1.18.4</td></tr><tr><td>SciPy</td><td>1.1.0</td></tr><tr><td>matplotlib</td><td>3.0.0</td></tr><tr><td>Cython</td><td>0.28.5</td></tr><tr><td>Number of CPUs</td><td>4</td></tr><tr><td>BLAS Info</td><td>OPENBLAS</td></tr><tr><td>IPython</td><td>6.5.0</td></tr><tr><td>Python</td><td>3.5.6 |Anaconda, Inc.| (default, Aug 26 2018, 16:05:27) [MSC v.1900 64 bit (AMD64)]</td></tr><tr><td>OS</td><td>nt [win32]</td></tr><tr><td colspan='2'>Fri May 15 17:47:49 2020 ¢Dx¢D_?D¡PCRE?!</td></tr></table>"
      ],
      "text/plain": [
       "<IPython.core.display.HTML object>"
      ]
     },
     "execution_count": 1,
     "metadata": {},
     "output_type": "execute_result"
    }
   ],
   "source": [
    "from qutip.ipynbtools import version_table\n",
    "\n",
    "version_table()"
   ]
  },
  {
   "cell_type": "code",
   "execution_count": 3,
   "metadata": {},
   "outputs": [],
   "source": [
    "%matplotlib inline\n",
    "import matplotlib.pyplot as plt\n",
    "import numpy as np\n",
    "from qutip import *\n",
    "from IPython.display import display, Math, Latex"
   ]
  },
  {
   "cell_type": "code",
   "execution_count": 4,
   "metadata": {},
   "outputs": [],
   "source": [
    "# shared parameters\n",
    "gamma = 1                        # decay rate\n",
    "tlist = np.linspace(0, 13, 300)\n",
    "taulist = tlist\n",
    "\n",
    "# parameters for TLS with exponential shape wavepacket (short pulse)\n",
    "tp_e = 0.060                     # Gaussian pulse parameter\n",
    "Om_e = 19.40                     # driving strength\n",
    "t_offset_e = 0.405\n",
    "pulse_shape_e = Om_e / 2 * np.exp(-(tlist - t_offset_e) ** 2 /\n",
    "                                  (2 * tp_e ** 2))\n",
    "\n",
    "# parameters for TLS with Gaussian shape wavepacket (long pulse)\n",
    "tp_G = 2.000                     # Gaussian pulse parameter\n",
    "Om_G = 0.702                     # driving strength\n",
    "t_offset_G = 5\n",
    "pulse_shape_G = Om_G / 2 * np.exp(-(tlist - t_offset_G) ** 2 /\n",
    "                                  (2 * tp_G ** 2))"
   ]
  },
  {
   "cell_type": "code",
   "execution_count": 5,
   "metadata": {},
   "outputs": [],
   "source": [
    "# initial state\n",
    "psi0 = fock(2, 0)              # ground state\n",
    "\n",
    "# operators\n",
    "sm = destroy(2)                # atomic lowering operator\n",
    "n = [sm.dag()*sm]              # number operator\n",
    "\n",
    "# Hamiltonian\n",
    "H_I = sm + sm.dag()\n",
    "H_e = [[H_I, pulse_shape_e]]\n",
    "H_G = [[H_I, pulse_shape_G]]\n",
    "\n",
    "# collapse operator that describes dissipation\n",
    "c_ops = [np.sqrt(gamma) * sm]  # represents spontaneous emission"
   ]
  },
  {
   "cell_type": "code",
   "execution_count": 6,
   "metadata": {},
   "outputs": [
    {
     "ename": "ImportError",
     "evalue": "Building module rhs101280 failed: ['distutils.errors.DistutilsPlatformError: Unable to find vcvarsall.bat\\n']",
     "output_type": "error",
     "traceback": [
      "\u001B[1;31m---------------------------------------------------------------------------\u001B[0m",
      "\u001B[1;31mDistutilsPlatformError\u001B[0m                    Traceback (most recent call last)",
      "\u001B[1;32m~\\Documents\\anaconda3\\envs\\qinfo\\lib\\site-packages\\pyximport\\pyximport.py\u001B[0m in \u001B[0;36mload_module\u001B[1;34m(name, pyxfilename, pyxbuild_dir, is_package, build_inplace, language_level, so_path)\u001B[0m\n\u001B[0;32m    214\u001B[0m             so_path = build_module(module_name, pyxfilename, pyxbuild_dir,\n\u001B[1;32m--> 215\u001B[1;33m                                    inplace=build_inplace, language_level=language_level)\n\u001B[0m\u001B[0;32m    216\u001B[0m         \u001B[0mmod\u001B[0m \u001B[1;33m=\u001B[0m \u001B[0mimp\u001B[0m\u001B[1;33m.\u001B[0m\u001B[0mload_dynamic\u001B[0m\u001B[1;33m(\u001B[0m\u001B[0mname\u001B[0m\u001B[1;33m,\u001B[0m \u001B[0mso_path\u001B[0m\u001B[1;33m)\u001B[0m\u001B[1;33m\u001B[0m\u001B[0m\n",
      "\u001B[1;32m~\\Documents\\anaconda3\\envs\\qinfo\\lib\\site-packages\\pyximport\\pyximport.py\u001B[0m in \u001B[0;36mbuild_module\u001B[1;34m(name, pyxfilename, pyxbuild_dir, inplace, language_level)\u001B[0m\n\u001B[0;32m    190\u001B[0m                                   \u001B[0minplace\u001B[0m\u001B[1;33m=\u001B[0m\u001B[0minplace\u001B[0m\u001B[1;33m,\u001B[0m\u001B[1;33m\u001B[0m\u001B[0m\n\u001B[1;32m--> 191\u001B[1;33m                                   reload_support=pyxargs.reload_support)\n\u001B[0m\u001B[0;32m    192\u001B[0m     \u001B[1;32massert\u001B[0m \u001B[0mos\u001B[0m\u001B[1;33m.\u001B[0m\u001B[0mpath\u001B[0m\u001B[1;33m.\u001B[0m\u001B[0mexists\u001B[0m\u001B[1;33m(\u001B[0m\u001B[0mso_path\u001B[0m\u001B[1;33m)\u001B[0m\u001B[1;33m,\u001B[0m \u001B[1;34m\"Cannot find: %s\"\u001B[0m \u001B[1;33m%\u001B[0m \u001B[0mso_path\u001B[0m\u001B[1;33m\u001B[0m\u001B[0m\n",
      "\u001B[1;32m~\\Documents\\anaconda3\\envs\\qinfo\\lib\\site-packages\\pyximport\\pyxbuild.py\u001B[0m in \u001B[0;36mpyx_to_dll\u001B[1;34m(filename, ext, force_rebuild, build_in_temp, pyxbuild_dir, setup_args, reload_support, inplace)\u001B[0m\n\u001B[0;32m    101\u001B[0m         \u001B[0mobj_build_ext\u001B[0m \u001B[1;33m=\u001B[0m \u001B[0mdist\u001B[0m\u001B[1;33m.\u001B[0m\u001B[0mget_command_obj\u001B[0m\u001B[1;33m(\u001B[0m\u001B[1;34m\"build_ext\"\u001B[0m\u001B[1;33m)\u001B[0m\u001B[1;33m\u001B[0m\u001B[0m\n\u001B[1;32m--> 102\u001B[1;33m         \u001B[0mdist\u001B[0m\u001B[1;33m.\u001B[0m\u001B[0mrun_commands\u001B[0m\u001B[1;33m(\u001B[0m\u001B[1;33m)\u001B[0m\u001B[1;33m\u001B[0m\u001B[0m\n\u001B[0m\u001B[0;32m    103\u001B[0m         \u001B[0mso_path\u001B[0m \u001B[1;33m=\u001B[0m \u001B[0mobj_build_ext\u001B[0m\u001B[1;33m.\u001B[0m\u001B[0mget_outputs\u001B[0m\u001B[1;33m(\u001B[0m\u001B[1;33m)\u001B[0m\u001B[1;33m[\u001B[0m\u001B[1;36m0\u001B[0m\u001B[1;33m]\u001B[0m\u001B[1;33m\u001B[0m\u001B[0m\n",
      "\u001B[1;32m~\\Documents\\anaconda3\\envs\\qinfo\\lib\\distutils\\dist.py\u001B[0m in \u001B[0;36mrun_commands\u001B[1;34m(self)\u001B[0m\n\u001B[0;32m    954\u001B[0m         \u001B[1;32mfor\u001B[0m \u001B[0mcmd\u001B[0m \u001B[1;32min\u001B[0m \u001B[0mself\u001B[0m\u001B[1;33m.\u001B[0m\u001B[0mcommands\u001B[0m\u001B[1;33m:\u001B[0m\u001B[1;33m\u001B[0m\u001B[0m\n\u001B[1;32m--> 955\u001B[1;33m             \u001B[0mself\u001B[0m\u001B[1;33m.\u001B[0m\u001B[0mrun_command\u001B[0m\u001B[1;33m(\u001B[0m\u001B[0mcmd\u001B[0m\u001B[1;33m)\u001B[0m\u001B[1;33m\u001B[0m\u001B[0m\n\u001B[0m\u001B[0;32m    956\u001B[0m \u001B[1;33m\u001B[0m\u001B[0m\n",
      "\u001B[1;32m~\\Documents\\anaconda3\\envs\\qinfo\\lib\\distutils\\dist.py\u001B[0m in \u001B[0;36mrun_command\u001B[1;34m(self, command)\u001B[0m\n\u001B[0;32m    973\u001B[0m         \u001B[0mcmd_obj\u001B[0m\u001B[1;33m.\u001B[0m\u001B[0mensure_finalized\u001B[0m\u001B[1;33m(\u001B[0m\u001B[1;33m)\u001B[0m\u001B[1;33m\u001B[0m\u001B[0m\n\u001B[1;32m--> 974\u001B[1;33m         \u001B[0mcmd_obj\u001B[0m\u001B[1;33m.\u001B[0m\u001B[0mrun\u001B[0m\u001B[1;33m(\u001B[0m\u001B[1;33m)\u001B[0m\u001B[1;33m\u001B[0m\u001B[0m\n\u001B[0m\u001B[0;32m    975\u001B[0m         \u001B[0mself\u001B[0m\u001B[1;33m.\u001B[0m\u001B[0mhave_run\u001B[0m\u001B[1;33m[\u001B[0m\u001B[0mcommand\u001B[0m\u001B[1;33m]\u001B[0m \u001B[1;33m=\u001B[0m \u001B[1;36m1\u001B[0m\u001B[1;33m\u001B[0m\u001B[0m\n",
      "\u001B[1;32m~\\Documents\\anaconda3\\envs\\qinfo\\lib\\site-packages\\Cython\\Distutils\\old_build_ext.py\u001B[0m in \u001B[0;36mrun\u001B[1;34m(self)\u001B[0m\n\u001B[0;32m    185\u001B[0m \u001B[1;33m\u001B[0m\u001B[0m\n\u001B[1;32m--> 186\u001B[1;33m         \u001B[0m_build_ext\u001B[0m\u001B[1;33m.\u001B[0m\u001B[0mbuild_ext\u001B[0m\u001B[1;33m.\u001B[0m\u001B[0mrun\u001B[0m\u001B[1;33m(\u001B[0m\u001B[0mself\u001B[0m\u001B[1;33m)\u001B[0m\u001B[1;33m\u001B[0m\u001B[0m\n\u001B[0m\u001B[0;32m    187\u001B[0m \u001B[1;33m\u001B[0m\u001B[0m\n",
      "\u001B[1;32m~\\Documents\\anaconda3\\envs\\qinfo\\lib\\distutils\\command\\build_ext.py\u001B[0m in \u001B[0;36mrun\u001B[1;34m(self)\u001B[0m\n\u001B[0;32m    338\u001B[0m         \u001B[1;31m# Now actually compile and link everything.\u001B[0m\u001B[1;33m\u001B[0m\u001B[1;33m\u001B[0m\u001B[0m\n\u001B[1;32m--> 339\u001B[1;33m         \u001B[0mself\u001B[0m\u001B[1;33m.\u001B[0m\u001B[0mbuild_extensions\u001B[0m\u001B[1;33m(\u001B[0m\u001B[1;33m)\u001B[0m\u001B[1;33m\u001B[0m\u001B[0m\n\u001B[0m\u001B[0;32m    340\u001B[0m \u001B[1;33m\u001B[0m\u001B[0m\n",
      "\u001B[1;32m~\\Documents\\anaconda3\\envs\\qinfo\\lib\\site-packages\\Cython\\Distutils\\old_build_ext.py\u001B[0m in \u001B[0;36mbuild_extensions\u001B[1;34m(self)\u001B[0m\n\u001B[0;32m    193\u001B[0m             \u001B[0mext\u001B[0m\u001B[1;33m.\u001B[0m\u001B[0msources\u001B[0m \u001B[1;33m=\u001B[0m \u001B[0mself\u001B[0m\u001B[1;33m.\u001B[0m\u001B[0mcython_sources\u001B[0m\u001B[1;33m(\u001B[0m\u001B[0mext\u001B[0m\u001B[1;33m.\u001B[0m\u001B[0msources\u001B[0m\u001B[1;33m,\u001B[0m \u001B[0mext\u001B[0m\u001B[1;33m)\u001B[0m\u001B[1;33m\u001B[0m\u001B[0m\n\u001B[1;32m--> 194\u001B[1;33m             \u001B[0mself\u001B[0m\u001B[1;33m.\u001B[0m\u001B[0mbuild_extension\u001B[0m\u001B[1;33m(\u001B[0m\u001B[0mext\u001B[0m\u001B[1;33m)\u001B[0m\u001B[1;33m\u001B[0m\u001B[0m\n\u001B[0m\u001B[0;32m    195\u001B[0m \u001B[1;33m\u001B[0m\u001B[0m\n",
      "\u001B[1;32m~\\Documents\\anaconda3\\envs\\qinfo\\lib\\distutils\\command\\build_ext.py\u001B[0m in \u001B[0;36mbuild_extension\u001B[1;34m(self, ext)\u001B[0m\n\u001B[0;32m    532\u001B[0m                                          \u001B[0mextra_postargs\u001B[0m\u001B[1;33m=\u001B[0m\u001B[0mextra_args\u001B[0m\u001B[1;33m,\u001B[0m\u001B[1;33m\u001B[0m\u001B[0m\n\u001B[1;32m--> 533\u001B[1;33m                                          depends=ext.depends)\n\u001B[0m\u001B[0;32m    534\u001B[0m \u001B[1;33m\u001B[0m\u001B[0m\n",
      "\u001B[1;32m~\\Documents\\anaconda3\\envs\\qinfo\\lib\\distutils\\_msvccompiler.py\u001B[0m in \u001B[0;36mcompile\u001B[1;34m(self, sources, output_dir, macros, include_dirs, debug, extra_preargs, extra_postargs, depends)\u001B[0m\n\u001B[0;32m    303\u001B[0m         \u001B[1;32mif\u001B[0m \u001B[1;32mnot\u001B[0m \u001B[0mself\u001B[0m\u001B[1;33m.\u001B[0m\u001B[0minitialized\u001B[0m\u001B[1;33m:\u001B[0m\u001B[1;33m\u001B[0m\u001B[0m\n\u001B[1;32m--> 304\u001B[1;33m             \u001B[0mself\u001B[0m\u001B[1;33m.\u001B[0m\u001B[0minitialize\u001B[0m\u001B[1;33m(\u001B[0m\u001B[1;33m)\u001B[0m\u001B[1;33m\u001B[0m\u001B[0m\n\u001B[0m\u001B[0;32m    305\u001B[0m         compile_info = self._setup_compile(output_dir, macros, include_dirs,\n",
      "\u001B[1;32m~\\Documents\\anaconda3\\envs\\qinfo\\lib\\distutils\\_msvccompiler.py\u001B[0m in \u001B[0;36minitialize\u001B[1;34m(self, plat_name)\u001B[0m\n\u001B[0;32m    196\u001B[0m \u001B[1;33m\u001B[0m\u001B[0m\n\u001B[1;32m--> 197\u001B[1;33m         \u001B[0mvc_env\u001B[0m \u001B[1;33m=\u001B[0m \u001B[0m_get_vc_env\u001B[0m\u001B[1;33m(\u001B[0m\u001B[0mplat_spec\u001B[0m\u001B[1;33m)\u001B[0m\u001B[1;33m\u001B[0m\u001B[0m\n\u001B[0m\u001B[0;32m    198\u001B[0m         \u001B[1;32mif\u001B[0m \u001B[1;32mnot\u001B[0m \u001B[0mvc_env\u001B[0m\u001B[1;33m:\u001B[0m\u001B[1;33m\u001B[0m\u001B[0m\n",
      "\u001B[1;32m~\\Documents\\anaconda3\\envs\\qinfo\\lib\\distutils\\_msvccompiler.py\u001B[0m in \u001B[0;36m_get_vc_env\u001B[1;34m(plat_spec)\u001B[0m\n\u001B[0;32m     84\u001B[0m     \u001B[1;32mif\u001B[0m \u001B[1;32mnot\u001B[0m \u001B[0mvcvarsall\u001B[0m\u001B[1;33m:\u001B[0m\u001B[1;33m\u001B[0m\u001B[0m\n\u001B[1;32m---> 85\u001B[1;33m         \u001B[1;32mraise\u001B[0m \u001B[0mDistutilsPlatformError\u001B[0m\u001B[1;33m(\u001B[0m\u001B[1;34m\"Unable to find vcvarsall.bat\"\u001B[0m\u001B[1;33m)\u001B[0m\u001B[1;33m\u001B[0m\u001B[0m\n\u001B[0m\u001B[0;32m     86\u001B[0m \u001B[1;33m\u001B[0m\u001B[0m\n",
      "\u001B[1;31mDistutilsPlatformError\u001B[0m: Unable to find vcvarsall.bat",
      "\nDuring handling of the above exception, another exception occurred:\n",
      "\u001B[1;31mImportError\u001B[0m                               Traceback (most recent call last)",
      "\u001B[1;32m<ipython-input-6-b34ceca0955c>\u001B[0m in \u001B[0;36m<module>\u001B[1;34m()\u001B[0m\n\u001B[1;32m----> 1\u001B[1;33m \u001B[0mn_e\u001B[0m \u001B[1;33m=\u001B[0m \u001B[0mmesolve\u001B[0m\u001B[1;33m(\u001B[0m\u001B[0mH_e\u001B[0m\u001B[1;33m,\u001B[0m \u001B[0mpsi0\u001B[0m\u001B[1;33m,\u001B[0m \u001B[0mtlist\u001B[0m\u001B[1;33m,\u001B[0m \u001B[0mc_ops\u001B[0m\u001B[1;33m,\u001B[0m \u001B[0mn\u001B[0m\u001B[1;33m)\u001B[0m\u001B[1;33m.\u001B[0m\u001B[0mexpect\u001B[0m\u001B[1;33m[\u001B[0m\u001B[1;36m0\u001B[0m\u001B[1;33m]\u001B[0m\u001B[1;33m\u001B[0m\u001B[0m\n\u001B[0m\u001B[0;32m      2\u001B[0m \u001B[0mn_G\u001B[0m \u001B[1;33m=\u001B[0m \u001B[0mmesolve\u001B[0m\u001B[1;33m(\u001B[0m\u001B[0mH_G\u001B[0m\u001B[1;33m,\u001B[0m \u001B[0mpsi0\u001B[0m\u001B[1;33m,\u001B[0m \u001B[0mtlist\u001B[0m\u001B[1;33m,\u001B[0m \u001B[0mc_ops\u001B[0m\u001B[1;33m,\u001B[0m \u001B[0mn\u001B[0m\u001B[1;33m)\u001B[0m\u001B[1;33m.\u001B[0m\u001B[0mexpect\u001B[0m\u001B[1;33m[\u001B[0m\u001B[1;36m0\u001B[0m\u001B[1;33m]\u001B[0m\u001B[1;33m\u001B[0m\u001B[0m\n",
      "\u001B[1;32m~\\Documents\\anaconda3\\envs\\qinfo\\lib\\site-packages\\qutip\\mesolve.py\u001B[0m in \u001B[0;36mmesolve\u001B[1;34m(H, rho0, tlist, c_ops, e_ops, args, options, progress_bar, _safe_mode)\u001B[0m\n\u001B[0;32m    319\u001B[0m                 res = _mesolve_list_str_td(H, rho0, tlist, c_ops,\n\u001B[0;32m    320\u001B[0m                                            \u001B[0me_ops\u001B[0m\u001B[1;33m,\u001B[0m \u001B[0margs\u001B[0m\u001B[1;33m,\u001B[0m \u001B[0moptions\u001B[0m\u001B[1;33m,\u001B[0m\u001B[1;33m\u001B[0m\u001B[0m\n\u001B[1;32m--> 321\u001B[1;33m                                            progress_bar)\n\u001B[0m\u001B[0;32m    322\u001B[0m \u001B[1;33m\u001B[0m\u001B[0m\n\u001B[0;32m    323\u001B[0m         \u001B[1;32melse\u001B[0m\u001B[1;33m:\u001B[0m\u001B[1;33m\u001B[0m\u001B[0m\n",
      "\u001B[1;32m~\\Documents\\anaconda3\\envs\\qinfo\\lib\\site-packages\\qutip\\mesolve.py\u001B[0m in \u001B[0;36m_mesolve_list_str_td\u001B[1;34m(H_list, rho0, tlist, c_list, e_ops, args, opt, progress_bar)\u001B[0m\n\u001B[0;32m    733\u001B[0m         code = compile('from ' + config.tdname + ' import cy_td_ode_rhs',\n\u001B[0;32m    734\u001B[0m                        '<string>', 'exec')\n\u001B[1;32m--> 735\u001B[1;33m         \u001B[0mexec\u001B[0m\u001B[1;33m(\u001B[0m\u001B[0mcode\u001B[0m\u001B[1;33m,\u001B[0m \u001B[0mglobals\u001B[0m\u001B[1;33m(\u001B[0m\u001B[1;33m)\u001B[0m\u001B[1;33m)\u001B[0m\u001B[1;33m\u001B[0m\u001B[0m\n\u001B[0m\u001B[0;32m    736\u001B[0m         \u001B[0mconfig\u001B[0m\u001B[1;33m.\u001B[0m\u001B[0mtdfunc\u001B[0m \u001B[1;33m=\u001B[0m \u001B[0mcy_td_ode_rhs\u001B[0m\u001B[1;33m\u001B[0m\u001B[0m\n\u001B[0;32m    737\u001B[0m \u001B[1;33m\u001B[0m\u001B[0m\n",
      "\u001B[1;32m~\\Documents\\anaconda3\\envs\\qinfo\\lib\\site-packages\\qutip\\mesolve.py\u001B[0m in \u001B[0;36m<module>\u001B[1;34m()\u001B[0m\n",
      "\u001B[1;32m~\\Documents\\anaconda3\\envs\\qinfo\\lib\\site-packages\\pyximport\\pyximport.py\u001B[0m in \u001B[0;36mload_module\u001B[1;34m(self, fullname)\u001B[0m\n\u001B[0;32m    456\u001B[0m                                  \u001B[0mself\u001B[0m\u001B[1;33m.\u001B[0m\u001B[0mpyxbuild_dir\u001B[0m\u001B[1;33m,\u001B[0m\u001B[1;33m\u001B[0m\u001B[0m\n\u001B[0;32m    457\u001B[0m                                  \u001B[0mbuild_inplace\u001B[0m\u001B[1;33m=\u001B[0m\u001B[0mself\u001B[0m\u001B[1;33m.\u001B[0m\u001B[0minplace\u001B[0m\u001B[1;33m,\u001B[0m\u001B[1;33m\u001B[0m\u001B[0m\n\u001B[1;32m--> 458\u001B[1;33m                                  language_level=self.language_level)\n\u001B[0m\u001B[0;32m    459\u001B[0m         \u001B[1;32mreturn\u001B[0m \u001B[0mmodule\u001B[0m\u001B[1;33m\u001B[0m\u001B[0m\n\u001B[0;32m    460\u001B[0m \u001B[1;33m\u001B[0m\u001B[0m\n",
      "\u001B[1;32m~\\Documents\\anaconda3\\envs\\qinfo\\lib\\site-packages\\pyximport\\pyximport.py\u001B[0m in \u001B[0;36mload_module\u001B[1;34m(name, pyxfilename, pyxbuild_dir, is_package, build_inplace, language_level, so_path)\u001B[0m\n\u001B[0;32m    229\u001B[0m                 name, traceback.format_exception_only(*sys.exc_info()[:2])))\n\u001B[0;32m    230\u001B[0m             \u001B[1;32mif\u001B[0m \u001B[0msys\u001B[0m\u001B[1;33m.\u001B[0m\u001B[0mversion_info\u001B[0m\u001B[1;33m[\u001B[0m\u001B[1;36m0\u001B[0m\u001B[1;33m]\u001B[0m \u001B[1;33m>=\u001B[0m \u001B[1;36m3\u001B[0m\u001B[1;33m:\u001B[0m\u001B[1;33m\u001B[0m\u001B[0m\n\u001B[1;32m--> 231\u001B[1;33m                 \u001B[1;32mraise\u001B[0m \u001B[0mexc\u001B[0m\u001B[1;33m.\u001B[0m\u001B[0mwith_traceback\u001B[0m\u001B[1;33m(\u001B[0m\u001B[0mtb\u001B[0m\u001B[1;33m)\u001B[0m\u001B[1;33m\u001B[0m\u001B[0m\n\u001B[0m\u001B[0;32m    232\u001B[0m             \u001B[1;32melse\u001B[0m\u001B[1;33m:\u001B[0m\u001B[1;33m\u001B[0m\u001B[0m\n\u001B[0;32m    233\u001B[0m                 \u001B[0mexec\u001B[0m\u001B[1;33m(\u001B[0m\u001B[1;34m\"raise exc, None, tb\"\u001B[0m\u001B[1;33m,\u001B[0m \u001B[1;33m{\u001B[0m\u001B[1;34m'exc'\u001B[0m\u001B[1;33m:\u001B[0m \u001B[0mexc\u001B[0m\u001B[1;33m,\u001B[0m \u001B[1;34m'tb'\u001B[0m\u001B[1;33m:\u001B[0m \u001B[0mtb\u001B[0m\u001B[1;33m}\u001B[0m\u001B[1;33m)\u001B[0m\u001B[1;33m\u001B[0m\u001B[0m\n",
      "\u001B[1;32m~\\Documents\\anaconda3\\envs\\qinfo\\lib\\site-packages\\pyximport\\pyximport.py\u001B[0m in \u001B[0;36mload_module\u001B[1;34m(name, pyxfilename, pyxbuild_dir, is_package, build_inplace, language_level, so_path)\u001B[0m\n\u001B[0;32m    213\u001B[0m                 \u001B[0mmodule_name\u001B[0m \u001B[1;33m=\u001B[0m \u001B[0mname\u001B[0m\u001B[1;33m\u001B[0m\u001B[0m\n\u001B[0;32m    214\u001B[0m             so_path = build_module(module_name, pyxfilename, pyxbuild_dir,\n\u001B[1;32m--> 215\u001B[1;33m                                    inplace=build_inplace, language_level=language_level)\n\u001B[0m\u001B[0;32m    216\u001B[0m         \u001B[0mmod\u001B[0m \u001B[1;33m=\u001B[0m \u001B[0mimp\u001B[0m\u001B[1;33m.\u001B[0m\u001B[0mload_dynamic\u001B[0m\u001B[1;33m(\u001B[0m\u001B[0mname\u001B[0m\u001B[1;33m,\u001B[0m \u001B[0mso_path\u001B[0m\u001B[1;33m)\u001B[0m\u001B[1;33m\u001B[0m\u001B[0m\n\u001B[0;32m    217\u001B[0m         \u001B[1;32mif\u001B[0m \u001B[0mis_package\u001B[0m \u001B[1;32mand\u001B[0m \u001B[1;32mnot\u001B[0m \u001B[0mhasattr\u001B[0m\u001B[1;33m(\u001B[0m\u001B[0mmod\u001B[0m\u001B[1;33m,\u001B[0m \u001B[1;34m'__path__'\u001B[0m\u001B[1;33m)\u001B[0m\u001B[1;33m:\u001B[0m\u001B[1;33m\u001B[0m\u001B[0m\n",
      "\u001B[1;32m~\\Documents\\anaconda3\\envs\\qinfo\\lib\\site-packages\\pyximport\\pyximport.py\u001B[0m in \u001B[0;36mbuild_module\u001B[1;34m(name, pyxfilename, pyxbuild_dir, inplace, language_level)\u001B[0m\n\u001B[0;32m    189\u001B[0m                                   \u001B[0msetup_args\u001B[0m\u001B[1;33m=\u001B[0m\u001B[0msargs\u001B[0m\u001B[1;33m,\u001B[0m\u001B[1;33m\u001B[0m\u001B[0m\n\u001B[0;32m    190\u001B[0m                                   \u001B[0minplace\u001B[0m\u001B[1;33m=\u001B[0m\u001B[0minplace\u001B[0m\u001B[1;33m,\u001B[0m\u001B[1;33m\u001B[0m\u001B[0m\n\u001B[1;32m--> 191\u001B[1;33m                                   reload_support=pyxargs.reload_support)\n\u001B[0m\u001B[0;32m    192\u001B[0m     \u001B[1;32massert\u001B[0m \u001B[0mos\u001B[0m\u001B[1;33m.\u001B[0m\u001B[0mpath\u001B[0m\u001B[1;33m.\u001B[0m\u001B[0mexists\u001B[0m\u001B[1;33m(\u001B[0m\u001B[0mso_path\u001B[0m\u001B[1;33m)\u001B[0m\u001B[1;33m,\u001B[0m \u001B[1;34m\"Cannot find: %s\"\u001B[0m \u001B[1;33m%\u001B[0m \u001B[0mso_path\u001B[0m\u001B[1;33m\u001B[0m\u001B[0m\n\u001B[0;32m    193\u001B[0m \u001B[1;33m\u001B[0m\u001B[0m\n",
      "\u001B[1;32m~\\Documents\\anaconda3\\envs\\qinfo\\lib\\site-packages\\pyximport\\pyxbuild.py\u001B[0m in \u001B[0;36mpyx_to_dll\u001B[1;34m(filename, ext, force_rebuild, build_in_temp, pyxbuild_dir, setup_args, reload_support, inplace)\u001B[0m\n\u001B[0;32m    100\u001B[0m     \u001B[1;32mtry\u001B[0m\u001B[1;33m:\u001B[0m\u001B[1;33m\u001B[0m\u001B[0m\n\u001B[0;32m    101\u001B[0m         \u001B[0mobj_build_ext\u001B[0m \u001B[1;33m=\u001B[0m \u001B[0mdist\u001B[0m\u001B[1;33m.\u001B[0m\u001B[0mget_command_obj\u001B[0m\u001B[1;33m(\u001B[0m\u001B[1;34m\"build_ext\"\u001B[0m\u001B[1;33m)\u001B[0m\u001B[1;33m\u001B[0m\u001B[0m\n\u001B[1;32m--> 102\u001B[1;33m         \u001B[0mdist\u001B[0m\u001B[1;33m.\u001B[0m\u001B[0mrun_commands\u001B[0m\u001B[1;33m(\u001B[0m\u001B[1;33m)\u001B[0m\u001B[1;33m\u001B[0m\u001B[0m\n\u001B[0m\u001B[0;32m    103\u001B[0m         \u001B[0mso_path\u001B[0m \u001B[1;33m=\u001B[0m \u001B[0mobj_build_ext\u001B[0m\u001B[1;33m.\u001B[0m\u001B[0mget_outputs\u001B[0m\u001B[1;33m(\u001B[0m\u001B[1;33m)\u001B[0m\u001B[1;33m[\u001B[0m\u001B[1;36m0\u001B[0m\u001B[1;33m]\u001B[0m\u001B[1;33m\u001B[0m\u001B[0m\n\u001B[0;32m    104\u001B[0m         \u001B[1;32mif\u001B[0m \u001B[0mobj_build_ext\u001B[0m\u001B[1;33m.\u001B[0m\u001B[0minplace\u001B[0m\u001B[1;33m:\u001B[0m\u001B[1;33m\u001B[0m\u001B[0m\n",
      "\u001B[1;32m~\\Documents\\anaconda3\\envs\\qinfo\\lib\\distutils\\dist.py\u001B[0m in \u001B[0;36mrun_commands\u001B[1;34m(self)\u001B[0m\n\u001B[0;32m    953\u001B[0m         \"\"\"\n\u001B[0;32m    954\u001B[0m         \u001B[1;32mfor\u001B[0m \u001B[0mcmd\u001B[0m \u001B[1;32min\u001B[0m \u001B[0mself\u001B[0m\u001B[1;33m.\u001B[0m\u001B[0mcommands\u001B[0m\u001B[1;33m:\u001B[0m\u001B[1;33m\u001B[0m\u001B[0m\n\u001B[1;32m--> 955\u001B[1;33m             \u001B[0mself\u001B[0m\u001B[1;33m.\u001B[0m\u001B[0mrun_command\u001B[0m\u001B[1;33m(\u001B[0m\u001B[0mcmd\u001B[0m\u001B[1;33m)\u001B[0m\u001B[1;33m\u001B[0m\u001B[0m\n\u001B[0m\u001B[0;32m    956\u001B[0m \u001B[1;33m\u001B[0m\u001B[0m\n\u001B[0;32m    957\u001B[0m     \u001B[1;31m# -- Methods that operate on its Commands --------------------------\u001B[0m\u001B[1;33m\u001B[0m\u001B[1;33m\u001B[0m\u001B[0m\n",
      "\u001B[1;32m~\\Documents\\anaconda3\\envs\\qinfo\\lib\\distutils\\dist.py\u001B[0m in \u001B[0;36mrun_command\u001B[1;34m(self, command)\u001B[0m\n\u001B[0;32m    972\u001B[0m         \u001B[0mcmd_obj\u001B[0m \u001B[1;33m=\u001B[0m \u001B[0mself\u001B[0m\u001B[1;33m.\u001B[0m\u001B[0mget_command_obj\u001B[0m\u001B[1;33m(\u001B[0m\u001B[0mcommand\u001B[0m\u001B[1;33m)\u001B[0m\u001B[1;33m\u001B[0m\u001B[0m\n\u001B[0;32m    973\u001B[0m         \u001B[0mcmd_obj\u001B[0m\u001B[1;33m.\u001B[0m\u001B[0mensure_finalized\u001B[0m\u001B[1;33m(\u001B[0m\u001B[1;33m)\u001B[0m\u001B[1;33m\u001B[0m\u001B[0m\n\u001B[1;32m--> 974\u001B[1;33m         \u001B[0mcmd_obj\u001B[0m\u001B[1;33m.\u001B[0m\u001B[0mrun\u001B[0m\u001B[1;33m(\u001B[0m\u001B[1;33m)\u001B[0m\u001B[1;33m\u001B[0m\u001B[0m\n\u001B[0m\u001B[0;32m    975\u001B[0m         \u001B[0mself\u001B[0m\u001B[1;33m.\u001B[0m\u001B[0mhave_run\u001B[0m\u001B[1;33m[\u001B[0m\u001B[0mcommand\u001B[0m\u001B[1;33m]\u001B[0m \u001B[1;33m=\u001B[0m \u001B[1;36m1\u001B[0m\u001B[1;33m\u001B[0m\u001B[0m\n\u001B[0;32m    976\u001B[0m \u001B[1;33m\u001B[0m\u001B[0m\n",
      "\u001B[1;32m~\\Documents\\anaconda3\\envs\\qinfo\\lib\\site-packages\\Cython\\Distutils\\old_build_ext.py\u001B[0m in \u001B[0;36mrun\u001B[1;34m(self)\u001B[0m\n\u001B[0;32m    184\u001B[0m             \u001B[0moptimization\u001B[0m\u001B[1;33m.\u001B[0m\u001B[0mdisable_optimization\u001B[0m\u001B[1;33m(\u001B[0m\u001B[1;33m)\u001B[0m\u001B[1;33m\u001B[0m\u001B[0m\n\u001B[0;32m    185\u001B[0m \u001B[1;33m\u001B[0m\u001B[0m\n\u001B[1;32m--> 186\u001B[1;33m         \u001B[0m_build_ext\u001B[0m\u001B[1;33m.\u001B[0m\u001B[0mbuild_ext\u001B[0m\u001B[1;33m.\u001B[0m\u001B[0mrun\u001B[0m\u001B[1;33m(\u001B[0m\u001B[0mself\u001B[0m\u001B[1;33m)\u001B[0m\u001B[1;33m\u001B[0m\u001B[0m\n\u001B[0m\u001B[0;32m    187\u001B[0m \u001B[1;33m\u001B[0m\u001B[0m\n\u001B[0;32m    188\u001B[0m     \u001B[1;32mdef\u001B[0m \u001B[0mbuild_extensions\u001B[0m\u001B[1;33m(\u001B[0m\u001B[0mself\u001B[0m\u001B[1;33m)\u001B[0m\u001B[1;33m:\u001B[0m\u001B[1;33m\u001B[0m\u001B[0m\n",
      "\u001B[1;32m~\\Documents\\anaconda3\\envs\\qinfo\\lib\\distutils\\command\\build_ext.py\u001B[0m in \u001B[0;36mrun\u001B[1;34m(self)\u001B[0m\n\u001B[0;32m    337\u001B[0m \u001B[1;33m\u001B[0m\u001B[0m\n\u001B[0;32m    338\u001B[0m         \u001B[1;31m# Now actually compile and link everything.\u001B[0m\u001B[1;33m\u001B[0m\u001B[1;33m\u001B[0m\u001B[0m\n\u001B[1;32m--> 339\u001B[1;33m         \u001B[0mself\u001B[0m\u001B[1;33m.\u001B[0m\u001B[0mbuild_extensions\u001B[0m\u001B[1;33m(\u001B[0m\u001B[1;33m)\u001B[0m\u001B[1;33m\u001B[0m\u001B[0m\n\u001B[0m\u001B[0;32m    340\u001B[0m \u001B[1;33m\u001B[0m\u001B[0m\n\u001B[0;32m    341\u001B[0m     \u001B[1;32mdef\u001B[0m \u001B[0mcheck_extensions_list\u001B[0m\u001B[1;33m(\u001B[0m\u001B[0mself\u001B[0m\u001B[1;33m,\u001B[0m \u001B[0mextensions\u001B[0m\u001B[1;33m)\u001B[0m\u001B[1;33m:\u001B[0m\u001B[1;33m\u001B[0m\u001B[0m\n",
      "\u001B[1;32m~\\Documents\\anaconda3\\envs\\qinfo\\lib\\site-packages\\Cython\\Distutils\\old_build_ext.py\u001B[0m in \u001B[0;36mbuild_extensions\u001B[1;34m(self)\u001B[0m\n\u001B[0;32m    192\u001B[0m         \u001B[1;32mfor\u001B[0m \u001B[0mext\u001B[0m \u001B[1;32min\u001B[0m \u001B[0mself\u001B[0m\u001B[1;33m.\u001B[0m\u001B[0mextensions\u001B[0m\u001B[1;33m:\u001B[0m\u001B[1;33m\u001B[0m\u001B[0m\n\u001B[0;32m    193\u001B[0m             \u001B[0mext\u001B[0m\u001B[1;33m.\u001B[0m\u001B[0msources\u001B[0m \u001B[1;33m=\u001B[0m \u001B[0mself\u001B[0m\u001B[1;33m.\u001B[0m\u001B[0mcython_sources\u001B[0m\u001B[1;33m(\u001B[0m\u001B[0mext\u001B[0m\u001B[1;33m.\u001B[0m\u001B[0msources\u001B[0m\u001B[1;33m,\u001B[0m \u001B[0mext\u001B[0m\u001B[1;33m)\u001B[0m\u001B[1;33m\u001B[0m\u001B[0m\n\u001B[1;32m--> 194\u001B[1;33m             \u001B[0mself\u001B[0m\u001B[1;33m.\u001B[0m\u001B[0mbuild_extension\u001B[0m\u001B[1;33m(\u001B[0m\u001B[0mext\u001B[0m\u001B[1;33m)\u001B[0m\u001B[1;33m\u001B[0m\u001B[0m\n\u001B[0m\u001B[0;32m    195\u001B[0m \u001B[1;33m\u001B[0m\u001B[0m\n\u001B[0;32m    196\u001B[0m     \u001B[1;32mdef\u001B[0m \u001B[0mcython_sources\u001B[0m\u001B[1;33m(\u001B[0m\u001B[0mself\u001B[0m\u001B[1;33m,\u001B[0m \u001B[0msources\u001B[0m\u001B[1;33m,\u001B[0m \u001B[0mextension\u001B[0m\u001B[1;33m)\u001B[0m\u001B[1;33m:\u001B[0m\u001B[1;33m\u001B[0m\u001B[0m\n",
      "\u001B[1;32m~\\Documents\\anaconda3\\envs\\qinfo\\lib\\distutils\\command\\build_ext.py\u001B[0m in \u001B[0;36mbuild_extension\u001B[1;34m(self, ext)\u001B[0m\n\u001B[0;32m    531\u001B[0m                                          \u001B[0mdebug\u001B[0m\u001B[1;33m=\u001B[0m\u001B[0mself\u001B[0m\u001B[1;33m.\u001B[0m\u001B[0mdebug\u001B[0m\u001B[1;33m,\u001B[0m\u001B[1;33m\u001B[0m\u001B[0m\n\u001B[0;32m    532\u001B[0m                                          \u001B[0mextra_postargs\u001B[0m\u001B[1;33m=\u001B[0m\u001B[0mextra_args\u001B[0m\u001B[1;33m,\u001B[0m\u001B[1;33m\u001B[0m\u001B[0m\n\u001B[1;32m--> 533\u001B[1;33m                                          depends=ext.depends)\n\u001B[0m\u001B[0;32m    534\u001B[0m \u001B[1;33m\u001B[0m\u001B[0m\n\u001B[0;32m    535\u001B[0m         \u001B[1;31m# XXX outdated variable, kept here in case third-part code\u001B[0m\u001B[1;33m\u001B[0m\u001B[1;33m\u001B[0m\u001B[0m\n",
      "\u001B[1;32m~\\Documents\\anaconda3\\envs\\qinfo\\lib\\distutils\\_msvccompiler.py\u001B[0m in \u001B[0;36mcompile\u001B[1;34m(self, sources, output_dir, macros, include_dirs, debug, extra_preargs, extra_postargs, depends)\u001B[0m\n\u001B[0;32m    302\u001B[0m \u001B[1;33m\u001B[0m\u001B[0m\n\u001B[0;32m    303\u001B[0m         \u001B[1;32mif\u001B[0m \u001B[1;32mnot\u001B[0m \u001B[0mself\u001B[0m\u001B[1;33m.\u001B[0m\u001B[0minitialized\u001B[0m\u001B[1;33m:\u001B[0m\u001B[1;33m\u001B[0m\u001B[0m\n\u001B[1;32m--> 304\u001B[1;33m             \u001B[0mself\u001B[0m\u001B[1;33m.\u001B[0m\u001B[0minitialize\u001B[0m\u001B[1;33m(\u001B[0m\u001B[1;33m)\u001B[0m\u001B[1;33m\u001B[0m\u001B[0m\n\u001B[0m\u001B[0;32m    305\u001B[0m         compile_info = self._setup_compile(output_dir, macros, include_dirs,\n\u001B[0;32m    306\u001B[0m                                            sources, depends, extra_postargs)\n",
      "\u001B[1;32m~\\Documents\\anaconda3\\envs\\qinfo\\lib\\distutils\\_msvccompiler.py\u001B[0m in \u001B[0;36minitialize\u001B[1;34m(self, plat_name)\u001B[0m\n\u001B[0;32m    195\u001B[0m         \u001B[0mplat_spec\u001B[0m \u001B[1;33m=\u001B[0m \u001B[0mPLAT_TO_VCVARS\u001B[0m\u001B[1;33m[\u001B[0m\u001B[0mplat_name\u001B[0m\u001B[1;33m]\u001B[0m\u001B[1;33m\u001B[0m\u001B[0m\n\u001B[0;32m    196\u001B[0m \u001B[1;33m\u001B[0m\u001B[0m\n\u001B[1;32m--> 197\u001B[1;33m         \u001B[0mvc_env\u001B[0m \u001B[1;33m=\u001B[0m \u001B[0m_get_vc_env\u001B[0m\u001B[1;33m(\u001B[0m\u001B[0mplat_spec\u001B[0m\u001B[1;33m)\u001B[0m\u001B[1;33m\u001B[0m\u001B[0m\n\u001B[0m\u001B[0;32m    198\u001B[0m         \u001B[1;32mif\u001B[0m \u001B[1;32mnot\u001B[0m \u001B[0mvc_env\u001B[0m\u001B[1;33m:\u001B[0m\u001B[1;33m\u001B[0m\u001B[0m\n\u001B[0;32m    199\u001B[0m             raise DistutilsPlatformError(\"Unable to find a compatible \"\n",
      "\u001B[1;32m~\\Documents\\anaconda3\\envs\\qinfo\\lib\\distutils\\_msvccompiler.py\u001B[0m in \u001B[0;36m_get_vc_env\u001B[1;34m(plat_spec)\u001B[0m\n\u001B[0;32m     83\u001B[0m     \u001B[0mvcvarsall\u001B[0m\u001B[1;33m,\u001B[0m \u001B[0mvcruntime\u001B[0m \u001B[1;33m=\u001B[0m \u001B[0m_find_vcvarsall\u001B[0m\u001B[1;33m(\u001B[0m\u001B[0mplat_spec\u001B[0m\u001B[1;33m)\u001B[0m\u001B[1;33m\u001B[0m\u001B[0m\n\u001B[0;32m     84\u001B[0m     \u001B[1;32mif\u001B[0m \u001B[1;32mnot\u001B[0m \u001B[0mvcvarsall\u001B[0m\u001B[1;33m:\u001B[0m\u001B[1;33m\u001B[0m\u001B[0m\n\u001B[1;32m---> 85\u001B[1;33m         \u001B[1;32mraise\u001B[0m \u001B[0mDistutilsPlatformError\u001B[0m\u001B[1;33m(\u001B[0m\u001B[1;34m\"Unable to find vcvarsall.bat\"\u001B[0m\u001B[1;33m)\u001B[0m\u001B[1;33m\u001B[0m\u001B[0m\n\u001B[0m\u001B[0;32m     86\u001B[0m \u001B[1;33m\u001B[0m\u001B[0m\n\u001B[0;32m     87\u001B[0m     \u001B[1;32mtry\u001B[0m\u001B[1;33m:\u001B[0m\u001B[1;33m\u001B[0m\u001B[0m\n",
      "\u001B[1;31mImportError\u001B[0m: Building module rhs101280 failed: ['distutils.errors.DistutilsPlatformError: Unable to find vcvarsall.bat\\n']"
     ]
    }
   ],
   "source": [
    "n_e = mesolve(H_e, psi0, tlist, c_ops, n).expect[0]\n",
    "n_G = mesolve(H_G, psi0, tlist, c_ops, n).expect[0]"
   ]
  },
  {
   "cell_type": "code",
   "execution_count": 6,
   "metadata": {},
   "outputs": [
    {
     "ename": "NameError",
     "evalue": "name 'n_e' is not defined",
     "output_type": "error",
     "traceback": [
      "\u001B[1;31m---------------------------------------------------------------------------\u001B[0m",
      "\u001B[1;31mNameError\u001B[0m                                 Traceback (most recent call last)",
      "\u001B[1;32m<ipython-input-6-588dc3238f8c>\u001B[0m in \u001B[0;36m<module>\u001B[1;34m()\u001B[0m\n\u001B[0;32m      1\u001B[0m \u001B[0mfig\u001B[0m\u001B[1;33m,\u001B[0m \u001B[0max\u001B[0m \u001B[1;33m=\u001B[0m \u001B[0mplt\u001B[0m\u001B[1;33m.\u001B[0m\u001B[0msubplots\u001B[0m\u001B[1;33m(\u001B[0m\u001B[0mfigsize\u001B[0m\u001B[1;33m=\u001B[0m\u001B[1;33m(\u001B[0m\u001B[1;36m8\u001B[0m\u001B[1;33m,\u001B[0m\u001B[1;36m5\u001B[0m\u001B[1;33m)\u001B[0m\u001B[1;33m)\u001B[0m\u001B[1;33m\u001B[0m\u001B[0m\n\u001B[1;32m----> 2\u001B[1;33m \u001B[0max\u001B[0m\u001B[1;33m.\u001B[0m\u001B[0mplot\u001B[0m\u001B[1;33m(\u001B[0m\u001B[0mtlist\u001B[0m\u001B[1;33m,\u001B[0m \u001B[0mn_e\u001B[0m\u001B[1;33m,\u001B[0m \u001B[1;34m'r'\u001B[0m\u001B[1;33m,\u001B[0m \u001B[0mlabel\u001B[0m\u001B[1;33m=\u001B[0m\u001B[1;34m\"exponential wavepacket\"\u001B[0m\u001B[1;33m)\u001B[0m\u001B[1;33m\u001B[0m\u001B[0m\n\u001B[0m\u001B[0;32m      3\u001B[0m \u001B[0max\u001B[0m\u001B[1;33m.\u001B[0m\u001B[0mplot\u001B[0m\u001B[1;33m(\u001B[0m\u001B[0mtlist\u001B[0m\u001B[1;33m,\u001B[0m \u001B[0mn_G\u001B[0m\u001B[1;33m,\u001B[0m \u001B[1;34m'b'\u001B[0m\u001B[1;33m,\u001B[0m \u001B[0mlabel\u001B[0m\u001B[1;33m=\u001B[0m\u001B[1;34m\"Gaussian wavepacket\"\u001B[0m\u001B[1;33m)\u001B[0m\u001B[1;33m\u001B[0m\u001B[0m\n\u001B[0;32m      4\u001B[0m \u001B[0max\u001B[0m\u001B[1;33m.\u001B[0m\u001B[0mlegend\u001B[0m\u001B[1;33m(\u001B[0m\u001B[1;33m)\u001B[0m\u001B[1;33m\u001B[0m\u001B[0m\n\u001B[0;32m      5\u001B[0m \u001B[0max\u001B[0m\u001B[1;33m.\u001B[0m\u001B[0mset_xlim\u001B[0m\u001B[1;33m(\u001B[0m\u001B[1;36m0\u001B[0m\u001B[1;33m,\u001B[0m \u001B[1;36m13\u001B[0m\u001B[1;33m)\u001B[0m\u001B[1;33m\u001B[0m\u001B[0m\n",
      "\u001B[1;31mNameError\u001B[0m: name 'n_e' is not defined"
     ]
    },
    {
     "data": {
      "image/png": "[encoded data removed]",
      "text/plain": [
       "<Figure size 576x360 with 1 Axes>"
      ]
     },
     "metadata": {
      "needs_background": "light"
     },
     "output_type": "display_data"
    }
   ],
   "source": [
    "fig, ax = plt.subplots(figsize=(8,5))\n",
    "ax.plot(tlist, n_e, 'r', label=\"exponential wavepacket\")\n",
    "ax.plot(tlist, n_G, 'b', label=\"Gaussian wavepacket\")\n",
    "ax.legend()\n",
    "ax.set_xlim(0, 13)\n",
    "ax.set_ylim(0, 1)\n",
    "ax.set_xlabel('Time, $t$ [$1/\\gamma$]')\n",
    "ax.set_ylabel('Emission flux [$\\gamma$]')\n",
    "ax.set_title('TLS emission shapes')"
   ]
  },
  {
   "cell_type": "code",
   "execution_count": null,
   "metadata": {},
   "outputs": [],
   "source": []
  }
 ],
 "metadata": {
  "kernelspec": {
   "display_name": "Python 3",
   "language": "python",
   "name": "python3"
  },
  "language_info": {
   "codemirror_mode": {
    "name": "ipython",
    "version": 3
   },
   "file_extension": ".py",
   "mimetype": "text/x-python",
   "name": "python",
   "nbconvert_exporter": "python",
   "pygments_lexer": "ipython3",
   "version": "3.5.6"
  }
 },
 "nbformat": 4,
 "nbformat_minor": 4
}